{
 "cells": [
  {
   "cell_type": "markdown",
   "metadata": {},
   "source": [
    "## 📌 O que são Funções Agregadas no SQL?\n",
    "\n",
    "As **funções agregadas** no SQL realizam cálculos sobre um conjunto de valores e retornam um único resultado. Elas são essenciais para análise de dados, permitindo calcular totais, médias, contagens e encontrar valores mínimos ou máximos dentro de um conjunto de registros.\n",
    "\n",
    "Essas funções são frequentemente utilizadas com a cláusula <i>**GROUP BY**</i> para agrupar os dados e gerar métricas importantes.\n",
    "\n",
    "### 📌 Principais Funções Agregadas no SQL\n",
    "\n",
    "```\n",
    "🔹 SUM()   – Retorna a soma dos valores em uma coluna numérica.\n",
    "```\n",
    "\n",
    "```\n",
    "🔹 AVG() – Retorna a média dos valores em uma coluna numérica.\n",
    "```\n",
    "\n",
    "```\n",
    "🔹 COUNT() – Retorna o número de registros em um conjunto de dados.\n",
    "```\n",
    "\n",
    "```\n",
    "🔹 MAX() – Retorna o maior valor dentro de um conjunto de registros.\n",
    "```\n",
    "\n",
    "```\n",
    "🔹 MIN() – Retorna o menor valor dentro de um conjunto de registros.\n",
    "```\n",
    "\n",
    "### 🎯 Explicação e Exemplos Práticos\n",
    "\n",
    "```\n",
    "SUM() – Soma de valores\n",
    "```\n",
    "\n",
    "A função SUM() é usada para calcular a soma total dos valores de uma coluna numérica.\n",
    "\n",
    "Exemplo:\n",
    "\n",
    "Vamos supor que temos uma tabela vendas com os seguintes campos:\n",
    "\n",
    "📌 id\\_venda, cliente\\_id, valor, data\\_venda\n",
    "\n",
    "Queremos calcular o total de vendas realizadas:\n",
    "\n",
    "``` sql\n",
    "SELECT SUM(valor) AS total_vendas\n",
    "FROM vendas;\n",
    "```\n",
    "✅ Retorna o total das vendas registradas na tabela.\n",
    "\n"
   ]
  }
 ],
 "metadata": {
  "kernelspec": {
   "display_name": "Python 3",
   "language": "python",
   "name": "python3"
  },
  "language_info": {
   "name": "python",
   "version": "3.12.9"
  }
 },
 "nbformat": 4,
 "nbformat_minor": 2
}
