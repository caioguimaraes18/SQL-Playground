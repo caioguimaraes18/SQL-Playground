{
 "cells": [
  {
   "cell_type": "code",
   "execution_count": 1,
   "metadata": {},
   "outputs": [
    {
     "name": "stdout",
     "output_type": "stream",
     "text": [
      "Dados inseridos com sucesso!\n"
     ]
    }
   ],
   "source": [
    "import sqlite3\n",
    "import pandas as pd\n",
    "\n",
    "\n",
    "db_name = 'data.db'\n",
    "\n",
    "conn = sqlite3.connect(db_name)\n",
    "cursor = conn.cursor()\n",
    "\n",
    "# Crina a tabela\n",
    "\n",
    "cursor.execute('''\n",
    "CREATE TABLE IF NOT EXISTS vendas (\n",
    "        ID INTEGER PRIMARY KEY,\n",
    "        Produto TEXT,\n",
    "        Categoria TEXT,\n",
    "        Preço REAL,\n",
    "        Quantidade_Vendida INTEGER,\n",
    "        Data_Venda TEXT,\n",
    "        Loja TEXT,\n",
    "        Vendedor TEXT\n",
    "    )\n",
    "''')\n",
    "\n",
    "cursor.execute('''\n",
    "    CREATE TABLE IF NOT EXISTS estoque (\n",
    "        ID INTEGER PRIMARY KEY,\n",
    "        Produto TEXT,\n",
    "        Categoria TEXT,\n",
    "        Estoque_Inicial INTEGER,\n",
    "        Estoque_Atual INTEGER,\n",
    "        Fornecedor TEXT,\n",
    "        Data_Reabastecimento TEXT\n",
    "    )\n",
    "''')\n",
    "\n",
    "df_vendas = pd.read_csv('./dataset/Base_de_Vendas.csv')\n",
    "df_estoque = pd.read_csv('./dataset/Base_de_Estoque.csv')\n",
    "\n",
    "# Inserindo dados no banco de dados\n",
    "\n",
    "df_vendas.to_sql('vendas', conn, if_exists='append', index=False)\n",
    "df_estoque.to_sql('estoque', conn, if_exists='append', index=False)\n",
    "\n",
    "# Commit e fechar conexão\n",
    "conn.commit()\n",
    "conn.close()\n",
    "\n",
    "print('Dados inseridos com sucesso!')\n",
    "\n"
   ]
  },
  {
   "cell_type": "code",
   "execution_count": 2,
   "metadata": {},
   "outputs": [
    {
     "name": "stdout",
     "output_type": "stream",
     "text": [
      "Amostra da tabela de Vendas:\n",
      "(1, 'Produto_1', 'Móveis', 391.84, 42, '2023-01-01', 'Loja E', 'Vendedor_8')\n",
      "(2, 'Produto_2', 'Brinquedos', 84.0, 13, '2023-01-02', 'Loja E', 'Vendedor_15')\n",
      "(3, 'Produto_3', 'Móveis', 306.32, 35, '2023-01-03', 'Loja C', 'Vendedor_19')\n",
      "(4, 'Produto_4', 'Alimentos', 124.38, 32, '2023-01-04', 'Loja A', 'Vendedor_17')\n",
      "(5, 'Produto_5', 'Móveis', 378.73, 23, '2023-01-05', 'Loja B', 'Vendedor_8')\n",
      "\n",
      "Amostra da tabela de Estoque:\n",
      "(1, 'Produto_1', 'Móveis', 264, 222, 'Fornecedor_7', '2023-01-01')\n",
      "(2, 'Produto_2', 'Brinquedos', 445, 432, 'Fornecedor_10', '2023-01-16')\n",
      "(3, 'Produto_3', 'Móveis', 213, 178, 'Fornecedor_8', '2023-01-31')\n",
      "(4, 'Produto_4', 'Alimentos', 407, 375, 'Fornecedor_4', '2023-02-15')\n",
      "(5, 'Produto_5', 'Móveis', 431, 408, 'Fornecedor_8', '2023-03-02')\n"
     ]
    }
   ],
   "source": [
    "conn = sqlite3.connect(db_name)\n",
    "cursor = conn.cursor()\n",
    "\n",
    "# Exibindo os dados\n",
    "\n",
    "print('Amostra da tabela de Vendas:')\n",
    "for row in cursor.execute('SELECT * FROM vendas LIMIT 5'):\n",
    "    print(row)\n",
    "    \n",
    "print('\\nAmostra da tabela de Estoque:')\n",
    "for row in cursor.execute('SELECT * FROM estoque LIMIT 5'):\n",
    "    print(row)\n",
    "    \n",
    "conn.close()"
   ]
  },
  {
   "cell_type": "code",
   "execution_count": 4,
   "metadata": {},
   "outputs": [
    {
     "name": "stdout",
     "output_type": "stream",
     "text": [
      "   ID    Produto   Categoria   Preço  Quantidade_Vendida  Data_Venda  \\\n",
      "0   1  Produto_1      Móveis  391.84                  42  2023-01-01   \n",
      "1   2  Produto_2  Brinquedos   84.00                  13  2023-01-02   \n",
      "2   3  Produto_3      Móveis  306.32                  35  2023-01-03   \n",
      "3   4  Produto_4   Alimentos  124.38                  32  2023-01-04   \n",
      "4   5  Produto_5      Móveis  378.73                  23  2023-01-05   \n",
      "\n",
      "   Estoque_Atual     Fornecedor  \n",
      "0            222   Fornecedor_7  \n",
      "1            432  Fornecedor_10  \n",
      "2            178   Fornecedor_8  \n",
      "3            375   Fornecedor_4  \n",
      "4            408   Fornecedor_8  \n"
     ]
    }
   ],
   "source": [
    "conn = sqlite3.connect(db_name)\n",
    "cursor = conn.cursor()\n",
    "\n",
    "query = '''\n",
    "    SELECT v.ID, v.Produto, v.Categoria, v.Preço, v.Quantidade_Vendida, v.Data_Venda, e.Estoque_Atual, e.Fornecedor\n",
    "    FROM vendas v\n",
    "    JOIN estoque e ON v.ID = e.ID\n",
    "'''\n",
    "\n",
    "df_join = pd.read_sql_query(query, conn)\n",
    "conn.close()\n",
    "\n",
    "print(df_join.head())"
   ]
  }
 ],
 "metadata": {
  "kernelspec": {
   "display_name": "Python 3",
   "language": "python",
   "name": "python3"
  },
  "language_info": {
   "codemirror_mode": {
    "name": "ipython",
    "version": 3
   },
   "file_extension": ".py",
   "mimetype": "text/x-python",
   "name": "python",
   "nbconvert_exporter": "python",
   "pygments_lexer": "ipython3",
   "version": "3.12.9"
  }
 },
 "nbformat": 4,
 "nbformat_minor": 2
}
