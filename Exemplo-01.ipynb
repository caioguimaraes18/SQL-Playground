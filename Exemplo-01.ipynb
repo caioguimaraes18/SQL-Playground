{
 "cells": [
  {
   "cell_type": "markdown",
   "metadata": {},
   "source": [
    "#\n",
    "Aprendendo SQL\n",
    "\n",
    "## O que é uma CTE?\n",
    "\n",
    "* Uma CTE (Common Table Expression) é uma construção que permite criar uma tabela temporária nomeada dentro de uma consulta SQL. Ela melhora a legibilidade e organização do código, tornando as consultas mais fáceis de entender e reutilizar.\n",
    "\n",
    "As CTEs são declaradas com a palavra-chave WITH, seguida pelo nome da expressão, os nomes das colunas (opcional) e a consulta SQL que define os dados da CTE.\n",
    "\n",
    "``` sql\n",
    "WITH nome_da_CTE (coluna1, coluna2, ...) AS (\n",
    "    -- Consulta que define a CTE\n",
    "    SELECT coluna1, coluna2\n",
    "    FROM tabela_origem\n",
    "    WHERE condição\n",
    ")\n",
    "-- Consulta principal que usa a CTE\n",
    "SELECT *\n",
    "FROM nome_da_CTE;\n",
    "```\n",
    "\n",
    "**Benefícios do Uso de CTEs:**\n",
    "\n",
    "Melhor organização do código – Permite dividir consultas complexas em partes menores e reutilizáveis.\n",
    "Reutilização de código – Pode ser usada várias vezes dentro da mesma consulta.\n",
    "Melhora a performance em alguns casos – Principalmente quando evita junções repetitivas ou subqueries aninhadas.\n",
    "Facilidade para consultas recursivas – Útil para hierarquias, como estrutura de funcionários em uma empresa.\n",
    "\n",
    "Exemplo 1: Uso básico de uma CTE\n",
    "Vamos supor que temos uma tabela vendas e queremos calcular as vendas médias por cliente:\n",
    "\n",
    "``` sql\n",
    "WITH vendas_cliente AS (\n",
    "    SELECT cliente_id, SUM(valor) AS total_vendas\n",
    "    FROM vendas\n",
    "    GROUP BY cliente_id\n",
    ")\n",
    "SELECT cliente_id, total_vendas\n",
    "FROM vendas_cliente\n",
    "WHERE total_vendas > 1000;\n",
    "\n",
    "```\n"
   ]
  }
 ],
 "metadata": {
  "language_info": {
   "name": "python"
  }
 },
 "nbformat": 4,
 "nbformat_minor": 2
}
